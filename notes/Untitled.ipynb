{
 "cells": [
  {
   "cell_type": "code",
   "execution_count": null,
   "id": "3b2a4541",
   "metadata": {},
   "outputs": [],
   "source": [
    "## PRINT"
   ]
  },
  {
   "cell_type": "code",
   "execution_count": 24,
   "id": "073fb20b",
   "metadata": {},
   "outputs": [],
   "source": [
    "x = 1\n",
    "y = 2\n",
    "z = x+y\n",
    "a = \"{x} + {y} = {z}\".format(x=x, y=y, z=z)"
   ]
  },
  {
   "cell_type": "code",
   "execution_count": 13,
   "id": "eaff359b",
   "metadata": {},
   "outputs": [
    {
     "data": {
      "text/plain": [
       "'1 + 2 = 3'"
      ]
     },
     "execution_count": 13,
     "metadata": {},
     "output_type": "execute_result"
    }
   ],
   "source": [
    "a"
   ]
  },
  {
   "cell_type": "code",
   "execution_count": 22,
   "id": "4df44557",
   "metadata": {},
   "outputs": [],
   "source": [
    "## LIST "
   ]
  },
  {
   "cell_type": "code",
   "execution_count": 97,
   "id": "d0fa801a",
   "metadata": {},
   "outputs": [
    {
     "name": "stdout",
     "output_type": "stream",
     "text": [
      "['a', 'b', 'c', 'd']\n",
      "['a', 'b', 'c']\n"
     ]
    }
   ],
   "source": [
    "list_1 = ['a', 'b', 'c']\n",
    "list_1.append('d')\n",
    "print(list_1)\n",
    "list_1.pop()\n",
    "print(list_1)"
   ]
  },
  {
   "cell_type": "code",
   "execution_count": 18,
   "id": "b9e38b7a",
   "metadata": {},
   "outputs": [
    {
     "data": {
      "text/plain": [
       "['helo', 'b', 'c']"
      ]
     },
     "execution_count": 18,
     "metadata": {},
     "output_type": "execute_result"
    }
   ],
   "source": [
    "# replace\n",
    "list_2 = ['a', 'b', 'c']\n",
    "list_2[0] = 'helo'\n",
    "list_2"
   ]
  },
  {
   "cell_type": "code",
   "execution_count": 25,
   "id": "b9694195",
   "metadata": {},
   "outputs": [],
   "source": [
    "## DICTIONARIES / OBJ "
   ]
  },
  {
   "cell_type": "code",
   "execution_count": 28,
   "id": "79b81d62",
   "metadata": {},
   "outputs": [
    {
     "name": "stdout",
     "output_type": "stream",
     "text": [
      "{'k1': 1, 'k2': 3, 'k3': 6}\n",
      "1\n"
     ]
    }
   ],
   "source": [
    "dict_1 = {'k1':1, 'k2': 3, 'k3':6}\n",
    "print(dict_1)\n",
    "print(dict_1['k1'])"
   ]
  },
  {
   "cell_type": "code",
   "execution_count": 29,
   "id": "8aac90fe",
   "metadata": {},
   "outputs": [
    {
     "name": "stdout",
     "output_type": "stream",
     "text": [
      "{'k1': 1, 'k2': {'m1': 'a', 'm2': 'b'}, 'k3': 6}\n",
      "{'m1': 'a', 'm2': 'b'}\n"
     ]
    }
   ],
   "source": [
    "dict_2 = {\n",
    "    'k1':1, \n",
    "    'k2': {\n",
    "        'm1' : 'a',\n",
    "        'm2' : 'b',\n",
    "    }, \n",
    "    'k3':6\n",
    "}\n",
    "\n",
    "print(dict_2)\n",
    "print(dict_2['k2'])"
   ]
  },
  {
   "cell_type": "code",
   "execution_count": 33,
   "id": "cab12fef",
   "metadata": {},
   "outputs": [
    {
     "name": "stdout",
     "output_type": "stream",
     "text": [
      "{'k1': 1, 'k2': {'m1': 'a', 'm2': 'b'}, 'k3': 'helo'}\n"
     ]
    }
   ],
   "source": [
    "# replace\n",
    "dict_2['k3'] = 'helo'\n",
    "print(dict_2)"
   ]
  },
  {
   "cell_type": "code",
   "execution_count": 34,
   "id": "b1c206bc",
   "metadata": {},
   "outputs": [
    {
     "name": "stdout",
     "output_type": "stream",
     "text": [
      "{'k1': 1, 'k2': {'m1': 'a', 'm2': 'b'}, 'k3': 'helo', 'k4': 'appended'}\n"
     ]
    }
   ],
   "source": [
    "# append\n",
    "dict_2['k4'] = 'appended'\n",
    "print(dict_2)"
   ]
  },
  {
   "cell_type": "code",
   "execution_count": 35,
   "id": "d4458a4b",
   "metadata": {},
   "outputs": [],
   "source": [
    "## TUPPLES"
   ]
  },
  {
   "cell_type": "code",
   "execution_count": 37,
   "id": "e5ce039e",
   "metadata": {},
   "outputs": [
    {
     "data": {
      "text/plain": [
       "(1, 2, 3)"
      ]
     },
     "execution_count": 37,
     "metadata": {},
     "output_type": "execute_result"
    }
   ],
   "source": [
    "t = (1,2,3)\n",
    "t"
   ]
  },
  {
   "cell_type": "code",
   "execution_count": 41,
   "id": "fabd1006",
   "metadata": {},
   "outputs": [
    {
     "ename": "TypeError",
     "evalue": "'tuple' object does not support item assignment",
     "output_type": "error",
     "traceback": [
      "\u001b[1;31m---------------------------------------------------------------------------\u001b[0m",
      "\u001b[1;31mTypeError\u001b[0m                                 Traceback (most recent call last)",
      "Input \u001b[1;32mIn [41]\u001b[0m, in \u001b[0;36m<cell line: 2>\u001b[1;34m()\u001b[0m\n\u001b[0;32m      1\u001b[0m t\u001b[38;5;241m=\u001b[39m(\u001b[38;5;241m2\u001b[39m,\u001b[38;5;241m3\u001b[39m)\n\u001b[1;32m----> 2\u001b[0m t[\u001b[38;5;241m0\u001b[39m]\u001b[38;5;241m=\u001b[39m\u001b[38;5;241m2\u001b[39m\n",
      "\u001b[1;31mTypeError\u001b[0m: 'tuple' object does not support item assignment"
     ]
    }
   ],
   "source": [
    "t=(2,3) # can replace\n",
    "t[0]=2 # cannot re-assign value inside it"
   ]
  },
  {
   "cell_type": "code",
   "execution_count": 42,
   "id": "7dbdc8d5",
   "metadata": {},
   "outputs": [],
   "source": [
    "## LOOPS"
   ]
  },
  {
   "cell_type": "code",
   "execution_count": 57,
   "id": "fa65fdd7",
   "metadata": {},
   "outputs": [
    {
     "name": "stdout",
     "output_type": "stream",
     "text": [
      "item: 1\n",
      "item: 2\n",
      "item: 4\n",
      "item: 5\n"
     ]
    }
   ],
   "source": [
    "list_3 = [1,2,3,4,5, 6, 7]\n",
    "for item in list_3:    \n",
    "    \n",
    "    if item == 3: continue    \n",
    "    elif item == 6: break\n",
    "    \n",
    "    print(\"item: \" + str(item))"
   ]
  },
  {
   "cell_type": "code",
   "execution_count": null,
   "id": "4869ba84",
   "metadata": {},
   "outputs": [],
   "source": [
    "## RANGE"
   ]
  },
  {
   "cell_type": "code",
   "execution_count": 59,
   "id": "be04eb6d",
   "metadata": {},
   "outputs": [
    {
     "name": "stdout",
     "output_type": "stream",
     "text": [
      "2\n",
      "3\n",
      "4 (found)\n",
      "5\n",
      "6\n",
      "7\n"
     ]
    }
   ],
   "source": [
    "a = range(2, 8)  #(2,3,4,5,6,7)\n",
    "strg = \"\"\n",
    "for item in a:    \n",
    "    strg = str(item)\n",
    "    if item == 4:\n",
    "        strg += \" (found)\"\n",
    "    print(strg)"
   ]
  },
  {
   "cell_type": "code",
   "execution_count": 60,
   "id": "d97d8fb1",
   "metadata": {},
   "outputs": [],
   "source": [
    "## FUNCTIONS"
   ]
  },
  {
   "cell_type": "code",
   "execution_count": 66,
   "id": "15dbb73e",
   "metadata": {},
   "outputs": [
    {
     "name": "stdout",
     "output_type": "stream",
     "text": [
      "The returned value is: default param 1\n",
      "The returned value is: helo\n"
     ]
    }
   ],
   "source": [
    "def func_1(par = 'default param 1'):\n",
    "    \"\"\"\n",
    "    RETURNING STRING WITH PASSED PARAM\n",
    "    \"\"\"\n",
    "    return \"The returned value is: \" + par\n",
    "\n",
    "print(func_1())\n",
    "print(func_1('helo'))"
   ]
  },
  {
   "cell_type": "code",
   "execution_count": 67,
   "id": "cb00e049",
   "metadata": {},
   "outputs": [],
   "source": [
    "## LAMBDA EXPRESSION"
   ]
  },
  {
   "cell_type": "code",
   "execution_count": 69,
   "id": "29dd3db8",
   "metadata": {},
   "outputs": [
    {
     "data": {
      "text/plain": [
       "[2, 4, 6, 8, 10]"
      ]
     },
     "execution_count": 69,
     "metadata": {},
     "output_type": "execute_result"
    }
   ],
   "source": [
    "list_4 = [1,2,3,4,5]\n",
    "def times2(var):\n",
    "    return var*2\n",
    "a = map(times2, list_4)\n",
    "list(a)"
   ]
  },
  {
   "cell_type": "code",
   "execution_count": 71,
   "id": "99f9294a",
   "metadata": {},
   "outputs": [
    {
     "data": {
      "text/plain": [
       "[2, 4, 6, 8, 10]"
      ]
     },
     "execution_count": 71,
     "metadata": {},
     "output_type": "execute_result"
    }
   ],
   "source": [
    "b = map(lambda var:var*2, list_4)\n",
    "list(b)"
   ]
  },
  {
   "cell_type": "code",
   "execution_count": 95,
   "id": "cd5a586b",
   "metadata": {},
   "outputs": [
    {
     "data": {
      "text/plain": [
       "[1, 2, 3, 4, 5]"
      ]
     },
     "execution_count": 95,
     "metadata": {},
     "output_type": "execute_result"
    }
   ],
   "source": [
    "c = filter(lambda var:True, list_4)\n",
    "d = list(c)\n",
    "d"
   ]
  },
  {
   "cell_type": "code",
   "execution_count": 79,
   "id": "cbae27bb",
   "metadata": {},
   "outputs": [
    {
     "data": {
      "text/plain": [
       "'Helo'"
      ]
     },
     "execution_count": 79,
     "metadata": {},
     "output_type": "execute_result"
    }
   ],
   "source": [
    "d = \"helo\".capitalize()\n",
    "d"
   ]
  },
  {
   "cell_type": "code",
   "execution_count": 98,
   "id": "490ff4fe",
   "metadata": {},
   "outputs": [
    {
     "data": {
      "text/plain": [
       "True"
      ]
     },
     "execution_count": 98,
     "metadata": {},
     "output_type": "execute_result"
    }
   ],
   "source": [
    "1 in [1,2,3]"
   ]
  },
  {
   "cell_type": "code",
   "execution_count": 99,
   "id": "2dfedcd2",
   "metadata": {},
   "outputs": [
    {
     "data": {
      "text/plain": [
       "False"
      ]
     },
     "execution_count": 99,
     "metadata": {},
     "output_type": "execute_result"
    }
   ],
   "source": [
    "1 in [2,3,4]"
   ]
  },
  {
   "cell_type": "code",
   "execution_count": 102,
   "id": "7574f10a",
   "metadata": {},
   "outputs": [
    {
     "name": "stdout",
     "output_type": "stream",
     "text": [
      "1:2\n",
      "3:4\n"
     ]
    }
   ],
   "source": [
    "## tupple unpacking\n",
    "for a,b in [(1,2), (3,4)]:\n",
    "    print(str(a) + \":\" + str(b))\n"
   ]
  },
  {
   "cell_type": "code",
   "execution_count": null,
   "id": "ccad95a9",
   "metadata": {},
   "outputs": [],
   "source": []
  }
 ],
 "metadata": {
  "kernelspec": {
   "display_name": "Python 3 (ipykernel)",
   "language": "python",
   "name": "python3"
  },
  "language_info": {
   "codemirror_mode": {
    "name": "ipython",
    "version": 3
   },
   "file_extension": ".py",
   "mimetype": "text/x-python",
   "name": "python",
   "nbconvert_exporter": "python",
   "pygments_lexer": "ipython3",
   "version": "3.9.12"
  }
 },
 "nbformat": 4,
 "nbformat_minor": 5
}
